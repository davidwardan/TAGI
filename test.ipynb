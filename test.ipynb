{
 "cells": [
  {
   "cell_type": "code",
   "execution_count": 1,
   "id": "initial_id",
   "metadata": {
    "collapsed": true,
    "ExecuteTime": {
     "end_time": "2024-03-14T21:34:45.889923Z",
     "start_time": "2024-03-14T21:34:44.266734Z"
    }
   },
   "outputs": [],
   "source": [
    "# import the necessary packages\n",
    "import numpy as np\n",
    "import matplotlib.pyplot as plt\n",
    "from numpy import random\n",
    "import pandas as pd\n",
    "\n",
    "# get helper functions\n",
    "from helper_functions import *"
   ]
  },
  {
   "cell_type": "code",
   "outputs": [],
   "source": [
    "# set the random seed\n",
    "np.random.seed(235)"
   ],
   "metadata": {
    "collapsed": false,
    "ExecuteTime": {
     "end_time": "2024-03-14T21:34:46.764999Z",
     "start_time": "2024-03-14T21:34:46.762107Z"
    }
   },
   "id": "ad0113c11119a80b",
   "execution_count": 2
  },
  {
   "cell_type": "code",
   "outputs": [
    {
     "data": {
      "text/plain": "<Figure size 640x480 with 1 Axes>",
      "image/png": "[encoded data removed]"
     },
     "metadata": {},
     "output_type": "display_data"
    }
   ],
   "source": [
    "# generate training data\n",
    "x_train, y_train = generate_data(20, 0, 9)\n",
    "# generate test data\n",
    "x_test, y_test = generate_data(20, 0, 9)\n",
    "\n",
    "# plot the training data and testing data\n",
    "plt.scatter(x_train, y_train, label='Training Data')\n",
    "plt.scatter(x_test, y_test, label='Testing Data')\n",
    "plt.legend()\n",
    "plt.show()"
   ],
   "metadata": {
    "collapsed": false,
    "ExecuteTime": {
     "end_time": "2024-03-15T02:47:50.003586Z",
     "start_time": "2024-03-15T02:47:49.925122Z"
    }
   },
   "id": "9769aeb080ba2268",
   "execution_count": 25
  },
  {
   "cell_type": "code",
   "outputs": [
    {
     "name": "stdout",
     "output_type": "stream",
     "text": [
      "{'mean_x_train': -7.771561172376095e-17, 'var_x_train': 1.0000000000000002, 'mean_x_test': -7.771561172376095e-17, 'var_x_test': 1.0000000000000002}\n"
     ]
    }
   ],
   "source": [
    "# get the mean and variance of the training data\n",
    "mean_x_train = np.mean(x_train)\n",
    "var_x_train = np.var(x_train)\n",
    "\n",
    "# get the mean and variance of the testing data\n",
    "mean_x_test = np.mean(x_test)\n",
    "var_x_test = np.var(x_test)\n",
    "\n",
    "# normalize the training and testing data\n",
    "x_train = (x_train - mean_x_train) / np.sqrt(var_x_train)\n",
    "x_test = (x_test - mean_x_test) / np.sqrt(var_x_test)\n",
    "\n",
    "# get the new mean and variance of the training data\n",
    "mean_x_train = np.mean(x_train)\n",
    "var_x_train = np.var(x_train)\n",
    "\n",
    "# get the new mean and variance of the testing data\n",
    "mean_x_test = np.mean(x_test)\n",
    "var_x_test = np.var(x_test)\n",
    "\n",
    "# define values to dictionary with mean and variance\n",
    "data = {'mean_x_train': mean_x_train, 'var_x_train': var_x_train, 'mean_x_test': mean_x_test, 'var_x_test': var_x_test}\n",
    "# show\n",
    "print(data)"
   ],
   "metadata": {
    "collapsed": false,
    "ExecuteTime": {
     "end_time": "2024-03-14T21:34:47.970312Z",
     "start_time": "2024-03-14T21:34:47.966445Z"
    }
   },
   "id": "6eaf362e7b09978c",
   "execution_count": 4
  },
  {
   "cell_type": "code",
   "outputs": [],
   "source": [
    "# define the number of layers, number of neurons in each layer\n",
    "n_layers = 1\n",
    "n_units = 100\n",
    "input_dim = 1 # considering that the input is implemented in one batch\n",
    "output_dim = 1\n",
    "\n",
    "var_v = 9\n",
    "x_train = x_train[0]"
   ],
   "metadata": {
    "collapsed": false,
    "ExecuteTime": {
     "end_time": "2024-03-15T02:47:53.250541Z",
     "start_time": "2024-03-15T02:47:53.247286Z"
    }
   },
   "id": "82d7ab08d7aaf53c",
   "execution_count": 26
  },
  {
   "cell_type": "code",
   "outputs": [
    {
     "name": "stdout",
     "output_type": "stream",
     "text": [
      "mu_w1: (100, 1)\n",
      "mu_w2: (1, 100)\n",
      "mu_b1: (100, 1)\n",
      "mu_b2: (1, 1)\n"
     ]
    }
   ],
   "source": [
    "# Initialize the weights \n",
    "sigma_w1 = (1/n_units) * np.eye(n_units)\n",
    "sigma_w2 = (1/n_units) * np.eye(n_units) # TODO: check dimensions\n",
    "\n",
    "mu_w1 = np.random.normal(0, (1/n_units), (n_units, input_dim))\n",
    "mu_w2 = np.random.normal(0, (1/n_units), (output_dim, n_units))\n",
    "\n",
    "# Initialize the biases\n",
    "sigma_b1 = (1/n_units) * np.eye(n_units)\n",
    "sigma_b2 = (1/n_units) * np.ones((output_dim, 1)) #TODO: check dimensions\n",
    "\n",
    "mu_b1 = np.random.normal(0, (1/n_units), (n_units, input_dim))\n",
    "mu_b2 = np.random.normal(0, (1/n_units), (output_dim, 1))\n",
    "\n",
    "# print size of the weights and biases\n",
    "print('mu_w1:', mu_w1.shape)\n",
    "print('mu_w2:', mu_w2.shape)\n",
    "print('mu_b1:', mu_b1.shape)\n",
    "print('mu_b2:', mu_b2.shape)"
   ],
   "metadata": {
    "collapsed": false,
    "ExecuteTime": {
     "end_time": "2024-03-15T02:47:53.606046Z",
     "start_time": "2024-03-15T02:47:53.602304Z"
    }
   },
   "id": "d75b06d5ce47ea46",
   "execution_count": 27
  },
  {
   "cell_type": "code",
   "outputs": [
    {
     "name": "stdout",
     "output_type": "stream",
     "text": [
      "mu_z: (100, 1)\n",
      "var_z: (100, 100)\n",
      "cov_z_w: (100, 100)\n",
      "cov_z_b: (100, 100)\n"
     ]
    }
   ],
   "source": [
    "# Perform the forward pass from input to hidden layer\n",
    "mu_z = mu_w1 * x_train + mu_b1\n",
    "var_z = sigma_w1 * x_train**2 + sigma_b1\n",
    "cov_z_w = sigma_w1 * x_train**2\n",
    "cov_z_b = sigma_b1\n",
    "\n",
    "# print the size of the mean and variance of the hidden layer\n",
    "print('mu_z:', mu_z.shape)\n",
    "print('var_z:', var_z.shape)\n",
    "print('cov_z_w:', cov_z_w.shape)\n",
    "print('cov_z_b:', cov_z_b.shape)"
   ],
   "metadata": {
    "collapsed": false,
    "ExecuteTime": {
     "end_time": "2024-03-15T02:47:53.993958Z",
     "start_time": "2024-03-15T02:47:53.990949Z"
    }
   },
   "id": "7f4951ae4735081b",
   "execution_count": 28
  },
  {
   "cell_type": "code",
   "outputs": [
    {
     "name": "stdout",
     "output_type": "stream",
     "text": [
      "(100, 1)\n",
      "[[0 0 0 ... 0 0 0]\n",
      " [0 0 0 ... 0 0 0]\n",
      " [0 0 1 ... 0 0 0]\n",
      " ...\n",
      " [0 0 0 ... 1 0 0]\n",
      " [0 0 0 ... 0 1 0]\n",
      " [0 0 0 ... 0 0 1]]\n",
      "mu_a: (100, 1)\n",
      "var_a: (100, 100)\n",
      "cov_a_w: (100, 100)\n",
      "cov_a_b: (100, 100)\n"
     ]
    }
   ],
   "source": [
    "# Calculate the diagonal Jacobian matrix of the Relu transformation\n",
    "J = relu_derivative(mu_z)\n",
    "print(J.shape)\n",
    "J = np.diag(J.flatten())\n",
    "print(J)\n",
    "mu_a = J @ mu_z\n",
    "var_a = J @ var_z @ J.T \n",
    "cov_a_w = J @ cov_z_w\n",
    "cov_a_b = J @ cov_z_b\n",
    "\n",
    "# print the size of the mean and variance of the hidden layer\n",
    "print('mu_a:', mu_a.shape)\n",
    "print('var_a:', var_a.shape)\n",
    "print('cov_a_w:', cov_a_w.shape)\n",
    "print('cov_a_b:', cov_a_b.shape)"
   ],
   "metadata": {
    "collapsed": false,
    "ExecuteTime": {
     "end_time": "2024-03-15T02:47:54.343726Z",
     "start_time": "2024-03-15T02:47:54.320402Z"
    }
   },
   "id": "9f25941e183d34dd",
   "execution_count": 29
  },
  {
   "cell_type": "code",
   "outputs": [
    {
     "name": "stdout",
     "output_type": "stream",
     "text": [
      "mu_z0: (1, 1)\n",
      "var_z0: (1, 1)\n",
      "cov_z0_w: (1, 1)\n",
      "cov_z0_b: (1, 1)\n"
     ]
    }
   ],
   "source": [
    "f1 = np.ones((1,n_units))\n",
    "\n",
    "# now perform the forward pass from the hidden layer to the output layer\n",
    "mu_z0 = mu_w2 @ mu_a + mu_b2\n",
    "var_z0 = f1 @ (sigma_w2 @ var_a + sigma_w2 * mu_a**2 + var_a * mu_w2**2) @ f1.T + sigma_b2 \n",
    "cov_z0_w = f1 @ sigma_w2 @ mu_a\n",
    "cov_z0_b = sigma_b2\n",
    "\n",
    "# print the size of the mean and variance of the hidden layer\n",
    "print('mu_z0:', mu_z0.shape)\n",
    "print('var_z0:', var_z0.shape)\n",
    "print('cov_z0_w:', cov_z0_w.shape)\n",
    "print('cov_z0_b:', cov_z0_b.shape)"
   ],
   "metadata": {
    "collapsed": false,
    "ExecuteTime": {
     "end_time": "2024-03-15T02:47:54.868046Z",
     "start_time": "2024-03-15T02:47:54.821376Z"
    }
   },
   "id": "15e60ec00f6a7427",
   "execution_count": 30
  },
  {
   "cell_type": "code",
   "outputs": [
    {
     "name": "stdout",
     "output_type": "stream",
     "text": [
      "mu_y: (1, 1)\n",
      "var_y: (1, 1)\n"
     ]
    }
   ],
   "source": [
    "# get y\n",
    "mu_y = mu_z0\n",
    "var_y = var_z0 + var_v\n",
    "\n",
    "# print the size of the mean and variance of the hidden layer\n",
    "print('mu_y:', mu_y.shape)\n",
    "print('var_y:', var_y.shape)"
   ],
   "metadata": {
    "collapsed": false,
    "ExecuteTime": {
     "end_time": "2024-03-15T02:47:55.457523Z",
     "start_time": "2024-03-15T02:47:55.455538Z"
    }
   },
   "id": "e43dc82972cf024b",
   "execution_count": 31
  },
  {
   "cell_type": "code",
   "outputs": [
    {
     "name": "stdout",
     "output_type": "stream",
     "text": [
      "mu_z0_inf: (1, 1)\n",
      "var_z0_inf: (1, 1)\n"
     ]
    }
   ],
   "source": [
    "# infer z0 after having observed y given that y = z0 + v\n",
    "cov_y_z0 = var_z0\n",
    "mu_z0_inf = mu_z0 + cov_y_z0.T @ np.linalg.inv(var_y) @ (y_train[0] - mu_y)\n",
    "var_z0_inf = var_z0 - cov_y_z0.T @ np.linalg.inv(var_y) @ cov_y_z0\n",
    "\n",
    "# print the size of the mean and variance of the hidden layer\n",
    "print('mu_z0_inf:', mu_z0_inf.shape)\n",
    "print('var_z0_inf:', var_z0_inf.shape)"
   ],
   "metadata": {
    "collapsed": false,
    "ExecuteTime": {
     "end_time": "2024-03-15T02:47:56.196516Z",
     "start_time": "2024-03-15T02:47:56.193276Z"
    }
   },
   "id": "fa944c3759568138",
   "execution_count": 32
  },
  {
   "cell_type": "code",
   "outputs": [],
   "source": [
    "# apply one backward pass for TAGI from the output layer to the hidden layer\n",
    "cov_zplus_z = var_z @ J.T @ mu_w2.T    #TODO: check formulation\n",
    "Jz = cov_zplus_z @ np.linalg.inv(var_z0) \n",
    "mu_post_z = mu_z + Jz @ (mu_z0_inf - mu_z0)\n",
    "var_post_z = var_z + Jz @ (var_z0_inf-var_z0) @ Jz.T"
   ],
   "metadata": {
    "collapsed": false,
    "ExecuteTime": {
     "end_time": "2024-03-15T03:06:17.772758Z",
     "start_time": "2024-03-15T03:06:17.750812Z"
    }
   },
   "id": "b53cb37ba7de1564",
   "execution_count": 47
  },
  {
   "cell_type": "code",
   "outputs": [
    {
     "data": {
      "text/plain": "(100, 1)"
     },
     "execution_count": 48,
     "metadata": {},
     "output_type": "execute_result"
    }
   ],
   "source": [
    "cov_zplus_z.shape"
   ],
   "metadata": {
    "collapsed": false,
    "ExecuteTime": {
     "end_time": "2024-03-15T03:06:19.753567Z",
     "start_time": "2024-03-15T03:06:19.750014Z"
    }
   },
   "id": "99f8cde226464735",
   "execution_count": 48
  },
  {
   "cell_type": "code",
   "outputs": [],
   "source": [
    "# apply one backward pass for TAGI from the output layer to the weights and biases\n",
    "Jw2 = cov_z0_w @ np.linalg.inv(var_z0)\n",
    "Jb2 = cov_z0_b @ np.linalg.inv(var_z0)\n",
    "\n",
    "mu_post_w2 = mu_w2 + Jw2 @ (mu_z0_inf - mu_z0)\n",
    "var_post_w2 = sigma_w2 + Jw2 @ (var_z0_inf - var_z0) @ Jw2.T\n",
    "\n",
    "mu_post_b2 = mu_b2 + Jb2 @ (mu_z0_inf - mu_z0)\n",
    "var_post_b2 = sigma_b2 + Jb2 @ (var_z0_inf - var_z0) @ Jb2.T"
   ],
   "metadata": {
    "collapsed": false,
    "ExecuteTime": {
     "end_time": "2024-03-15T03:06:21.031572Z",
     "start_time": "2024-03-15T03:06:21.028684Z"
    }
   },
   "id": "48937a51f7701484",
   "execution_count": 49
  },
  {
   "cell_type": "code",
   "outputs": [],
   "source": [
    "# apply one backward pass for TAGI from the output layer to the weights and biases\n",
    "Jw1 = cov_z_w @ np.linalg.inv(var_z)\n",
    "Jb1 = cov_z_b @ np.linalg.inv(var_z)\n",
    "\n",
    "mu_post_w1 = mu_w1 + Jw1 @ (mu_post_z - mu_z)\n",
    "var_post_w1 = sigma_w2 + Jw1 @ (var_post_z - var_z) @ Jw1.T\n",
    "\n",
    "mu_post_b1 = mu_b2 + Jb1 @ (mu_post_z - mu_z)\n",
    "var_post_b1 = sigma_b2 + Jb1 @ (var_post_z - var_z) @ Jb1.T"
   ],
   "metadata": {
    "collapsed": false,
    "ExecuteTime": {
     "end_time": "2024-03-15T03:06:21.988541Z",
     "start_time": "2024-03-15T03:06:21.953313Z"
    }
   },
   "id": "33cf4fba7ffe2e99",
   "execution_count": 50
  },
  {
   "cell_type": "code",
   "outputs": [
    {
     "name": "stdout",
     "output_type": "stream",
     "text": [
      "mu_w1: (100, 1)\n",
      "mu_w2: (1, 100)\n",
      "mu_b1: (100, 1)\n",
      "mu_b2: (1, 1)\n"
     ]
    }
   ],
   "source": [
    "# print new size for all parameters\n",
    "print(\"mu_w1: {}\".format(mu_post_w1.shape))\n",
    "print(\"mu_w2: {}\".format(mu_post_w2.shape))\n",
    "print(\"mu_b1: {}\".format(mu_post_b1.shape))\n",
    "print(\"mu_b2: {}\".format(mu_post_b2.shape))\n"
   ],
   "metadata": {
    "collapsed": false,
    "ExecuteTime": {
     "end_time": "2024-03-15T03:06:22.891345Z",
     "start_time": "2024-03-15T03:06:22.888315Z"
    }
   },
   "id": "f0bfd1c52f7b5bb",
   "execution_count": 51
  },
  {
   "cell_type": "code",
   "outputs": [
    {
     "name": "stdout",
     "output_type": "stream",
     "text": [
      "var_w1: (100, 100)\n",
      "var_w2: (100, 100)\n",
      "var_b1: (100, 100)\n",
      "var_b2: (1, 1)\n"
     ]
    }
   ],
   "source": [
    "# print new size for all parameters\n",
    "print(\"var_w1: {}\".format(var_post_w1.shape))\n",
    "print(\"var_w2: {}\".format(var_post_w2.shape))\n",
    "print(\"var_b1: {}\".format(var_post_b1.shape))\n",
    "print(\"var_b2: {}\".format(var_post_b2.shape))"
   ],
   "metadata": {
    "collapsed": false,
    "ExecuteTime": {
     "end_time": "2024-03-15T03:06:23.417245Z",
     "start_time": "2024-03-15T03:06:23.414962Z"
    }
   },
   "id": "8d40bf802e85b2ff",
   "execution_count": 52
  },
  {
   "cell_type": "code",
   "outputs": [
    {
     "name": "stdout",
     "output_type": "stream",
     "text": [
      "var_w1: (100, 100)\n",
      "var_w2: (100, 100)\n",
      "var_b1: (100, 100)\n",
      "var_b2: (1, 1)\n"
     ]
    }
   ],
   "source": [
    "# print shape of sigma_b1 and sigma_w1\n",
    "print(\"var_w1: {}\".format(sigma_w1.shape))\n",
    "print(\"var_w2: {}\".format(sigma_w2.shape))\n",
    "print(\"var_b1: {}\".format(sigma_b1.shape))\n",
    "print(\"var_b2: {}\".format(sigma_b2.shape))"
   ],
   "metadata": {
    "collapsed": false,
    "ExecuteTime": {
     "end_time": "2024-03-15T03:06:23.913153Z",
     "start_time": "2024-03-15T03:06:23.910874Z"
    }
   },
   "id": "cef4fffe56ecdd08",
   "execution_count": 53
  },
  {
   "cell_type": "code",
   "outputs": [],
   "source": [],
   "metadata": {
    "collapsed": false
   },
   "id": "1a9e3f30604ba6e4"
  }
 ],
 "metadata": {
  "kernelspec": {
   "display_name": "Python 3",
   "language": "python",
   "name": "python3"
  },
  "language_info": {
   "codemirror_mode": {
    "name": "ipython",
    "version": 2
   },
   "file_extension": ".py",
   "mimetype": "text/x-python",
   "name": "python",
   "nbconvert_exporter": "python",
   "pygments_lexer": "ipython2",
   "version": "2.7.6"
  }
 },
 "nbformat": 4,
 "nbformat_minor": 5
}
