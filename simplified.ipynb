{
 "cells": [
  {
   "cell_type": "code",
   "execution_count": 160,
   "id": "initial_id",
   "metadata": {
    "collapsed": true,
    "ExecuteTime": {
     "end_time": "2024-03-17T01:34:27.559018Z",
     "start_time": "2024-03-17T01:34:27.556613Z"
    }
   },
   "outputs": [],
   "source": [
    "# import the necessary packages\n",
    "import numpy as np\n",
    "import matplotlib.pyplot as plt\n",
    "from numpy import random\n",
    "import pandas as pd\n",
    "\n",
    "# get helper functions\n",
    "from helper_functions import *"
   ]
  },
  {
   "cell_type": "code",
   "outputs": [],
   "source": [
    "# set the random seed\n",
    "np.random.seed(235)"
   ],
   "metadata": {
    "collapsed": false,
    "ExecuteTime": {
     "end_time": "2024-03-17T01:34:27.572908Z",
     "start_time": "2024-03-17T01:34:27.571351Z"
    }
   },
   "id": "617a38ce548788fd",
   "execution_count": 161
  },
  {
   "cell_type": "code",
   "outputs": [
    {
     "data": {
      "text/plain": "<Figure size 640x480 with 1 Axes>",
      "image/png": "[encoded data removed]"
     },
     "metadata": {},
     "output_type": "display_data"
    }
   ],
   "source": [
    "# generate training data\n",
    "x_train, y_train = generate_data(20, 0, 9)\n",
    "# generate test data\n",
    "x_test, y_test = generate_data(20, 0, 9)\n",
    "\n",
    "# plot the training data and testing data\n",
    "plt.scatter(x_train, y_train, label='Training Data')\n",
    "plt.scatter(x_test, y_test, label='Testing Data')\n",
    "plt.legend()\n",
    "plt.show()"
   ],
   "metadata": {
    "collapsed": false,
    "ExecuteTime": {
     "end_time": "2024-03-17T01:34:27.644494Z",
     "start_time": "2024-03-17T01:34:27.580994Z"
    }
   },
   "id": "4e823b17ee1ff61f",
   "execution_count": 162
  },
  {
   "cell_type": "code",
   "outputs": [],
   "source": [
    "# Normalize the data between [0,1]\n",
    "x_train_norm = (x_train - np.mean(x_train)) / np.std(x_train)\n",
    "y_train_norm = (y_train - np.mean(y_train)) / np.std(y_train)\n",
    "x_test_norm = (x_test - np.mean(x_train)) / np.std(x_train)\n",
    "y_test_norm = (y_test - np.mean(y_train)) / np.std(y_train)"
   ],
   "metadata": {
    "collapsed": false,
    "ExecuteTime": {
     "end_time": "2024-03-17T01:34:27.648526Z",
     "start_time": "2024-03-17T01:34:27.645926Z"
    }
   },
   "id": "746152a7ca53ace8",
   "execution_count": 163
  },
  {
   "cell_type": "code",
   "outputs": [],
   "source": [
    "# define the number of layers, number of neurons in each layern_layers = 1\n",
    "n_units = 100\n",
    "input_dim = 1 # considering that the input is implemented in one batch\n",
    "output_dim = 1\n",
    "# define the observation error\n",
    "var_v = 9 / np.var(y_train) # normalized error"
   ],
   "metadata": {
    "collapsed": false,
    "ExecuteTime": {
     "end_time": "2024-03-17T01:34:27.652663Z",
     "start_time": "2024-03-17T01:34:27.649618Z"
    }
   },
   "id": "d0ded9ed17dd30a2",
   "execution_count": 164
  },
  {
   "cell_type": "markdown",
   "source": [
    "## Initialize the weights and biases"
   ],
   "metadata": {
    "collapsed": false
   },
   "id": "481fe61825287c06"
  },
  {
   "cell_type": "code",
   "outputs": [
    {
     "name": "stdout",
     "output_type": "stream",
     "text": [
      "mu_w1: (100, 1)\n",
      "mu_w2: (100, 1)\n",
      "mu_b1: (100, 1)\n",
      "mu_b2: (1, 1)\n"
     ]
    }
   ],
   "source": [
    "# Initialize the weights \n",
    "var_w1 =  np.diag(np.eye(n_units))\n",
    "var_w2 = np.diag((1/n_units) * np.eye(n_units)) # TODO: check dimensions\n",
    "\n",
    "mu_w1 = np.random.normal(0, 1, (n_units, input_dim))\n",
    "mu_w2 = np.random.normal(0, (np.sqrt(1/n_units)), (n_units, output_dim))\n",
    "\n",
    "# Initialize the biases\n",
    "var_b1 =  np.diag(np.eye(n_units))\n",
    "var_b2 = (1/n_units) * np.ones((output_dim, 1)) #TODO: check dimensions\n",
    "\n",
    "mu_b1 = np.random.normal(0, 1, (n_units, input_dim))\n",
    "mu_b2 = np.random.normal(0, np.sqrt((1/n_units)), (output_dim, 1))\n",
    "\n",
    "# print size of the weights and biases\n",
    "print('mu_w1:', mu_w1.shape)\n",
    "print('mu_w2:', mu_w2.shape)\n",
    "print('mu_b1:', mu_b1.shape)\n",
    "print('mu_b2:', mu_b2.shape)"
   ],
   "metadata": {
    "collapsed": false,
    "ExecuteTime": {
     "end_time": "2024-03-17T01:34:27.658161Z",
     "start_time": "2024-03-17T01:34:27.654559Z"
    }
   },
   "id": "6b40ec724ac72c22",
   "execution_count": 165
  },
  {
   "cell_type": "markdown",
   "source": [
    "## Forward Pass"
   ],
   "metadata": {
    "collapsed": false
   },
   "id": "8620580574f9d81"
  },
  {
   "cell_type": "code",
   "outputs": [
    {
     "name": "stdout",
     "output_type": "stream",
     "text": [
      "mu_z: (100, 1)\n",
      "var_z: (100,)\n",
      "cov_z_w: (100,)\n",
      "cov_z_b: (100,)\n"
     ]
    }
   ],
   "source": [
    "# Perform the forward pass from input to hidden layer\n",
    "mu_z = mu_w1 * x_train[0] + mu_b1\n",
    "var_z = var_w1 * x_train_norm[0]**2 + var_b1 #TODO: fix notation\n",
    "cov_z_w = x_train[0] * var_w1\n",
    "cov_z_b = var_b1\n",
    "\n",
    "# print the size of the mean and variance of the hidden layer\n",
    "print('mu_z:', mu_z.shape)\n",
    "print('var_z:', var_z.shape)\n",
    "print('cov_z_w:', cov_z_w.shape)\n",
    "print('cov_z_b:', cov_z_b.shape)"
   ],
   "metadata": {
    "collapsed": false,
    "ExecuteTime": {
     "end_time": "2024-03-17T01:34:27.661772Z",
     "start_time": "2024-03-17T01:34:27.658903Z"
    }
   },
   "id": "b759adfefac3a5fb",
   "execution_count": 166
  },
  {
   "cell_type": "code",
   "outputs": [
    {
     "name": "stdout",
     "output_type": "stream",
     "text": [
      "mu_a: (100, 1)\n",
      "var_a: (100,)\n",
      "cov_a_w: (100,)\n",
      "cov_a_b: (100,)\n"
     ]
    }
   ],
   "source": [
    "# Calculate the diagonal Jacobian matrix of the Relu transformation\n",
    "J = relu_derivative(mu_z)\n",
    "J = np.diag(J.flatten())\n",
    "mu_a = J @ mu_z\n",
    "var_a = J @ var_z @ J.T \n",
    "cov_a_w = J @ cov_z_w\n",
    "cov_a_b = J @ cov_z_b\n",
    "\n",
    "# print the size of the mean and variance of the hidden layer\n",
    "print('mu_a:', mu_a.shape)\n",
    "print('var_a:', var_a.shape)\n",
    "print('cov_a_w:', cov_a_w.shape)\n",
    "print('cov_a_b:', cov_a_b.shape)"
   ],
   "metadata": {
    "collapsed": false,
    "ExecuteTime": {
     "end_time": "2024-03-17T01:34:27.679171Z",
     "start_time": "2024-03-17T01:34:27.662726Z"
    }
   },
   "id": "14ad9b8be9862f2b",
   "execution_count": 167
  },
  {
   "cell_type": "code",
   "outputs": [
    {
     "name": "stdout",
     "output_type": "stream",
     "text": [
      "mu_z0: (1, 1)\n",
      "var_z0: (1, 1)\n",
      "cov_z0_w: (1,)\n",
      "cov_z0_b: (1, 1)\n"
     ]
    }
   ],
   "source": [
    "# now perform the forward pass from the hidden layer to the output layer\n",
    "mu_z0 = mu_w2.T @ mu_a + mu_b2\n",
    "var_z0 = var_w2.T @ var_a + var_w2.T @ mu_a**2 + var_a @ mu_w2**2 + var_b2 #TODO: fix notation\n",
    "cov_z0_w = var_w2.T @ mu_a\n",
    "cov_z0_b = var_b2\n",
    "\n",
    "# print the size of the mean and variance of the hidden layer\n",
    "print('mu_z0:', mu_z0.shape)\n",
    "print('var_z0:', var_z0.shape)\n",
    "print('cov_z0_w:', cov_z0_w.shape)\n",
    "print('cov_z0_b:', cov_z0_b.shape)"
   ],
   "metadata": {
    "collapsed": false,
    "ExecuteTime": {
     "end_time": "2024-03-17T01:34:27.696389Z",
     "start_time": "2024-03-17T01:34:27.680538Z"
    }
   },
   "id": "303cf36a2069c5f9",
   "execution_count": 168
  },
  {
   "cell_type": "code",
   "outputs": [],
   "source": [],
   "metadata": {
    "collapsed": false,
    "ExecuteTime": {
     "end_time": "2024-03-17T01:34:27.732428Z",
     "start_time": "2024-03-17T01:34:27.717179Z"
    }
   },
   "id": "c0445543ccfa86dd",
   "execution_count": 168
  },
  {
   "cell_type": "code",
   "outputs": [
    {
     "name": "stdout",
     "output_type": "stream",
     "text": [
      "mu_y: (1, 1)\n",
      "var_y: (1, 1)\n"
     ]
    }
   ],
   "source": [
    "# get y\n",
    "mu_y = mu_z0\n",
    "var_y = var_z0 + var_v\n",
    "\n",
    "# print the size of the mean and variance of the hidden layer\n",
    "print('mu_y:', mu_y.shape)\n",
    "print('var_y:', var_y.shape)"
   ],
   "metadata": {
    "collapsed": false,
    "ExecuteTime": {
     "end_time": "2024-03-17T01:34:27.739151Z",
     "start_time": "2024-03-17T01:34:27.733525Z"
    }
   },
   "id": "7707eab667ec7440",
   "execution_count": 169
  },
  {
   "cell_type": "markdown",
   "source": [
    "## Backward Pass"
   ],
   "metadata": {
    "collapsed": false
   },
   "id": "9a252424d252a87d"
  },
  {
   "cell_type": "code",
   "outputs": [
    {
     "name": "stdout",
     "output_type": "stream",
     "text": [
      "mu_z0_inf: (1, 1)\n",
      "var_z0_inf: (1, 1)\n"
     ]
    }
   ],
   "source": [
    "# infer z0 after having observed y given that y = z0 + v\n",
    "cov_y_z0 = var_z0\n",
    "mu_z0_inf = mu_z0 + cov_y_z0.T @ np.linalg.inv(var_y) @ (y_train_norm[0] - mu_y)\n",
    "var_z0_inf = var_z0 - cov_y_z0.T @ np.linalg.inv(var_y) @ cov_y_z0\n",
    "#TODO diagonals\n",
    "# print the size of the mean and variance of the hidden layer\n",
    "print('mu_z0_inf:', mu_z0_inf.shape)\n",
    "print('var_z0_inf:', var_z0_inf.shape)"
   ],
   "metadata": {
    "collapsed": false,
    "ExecuteTime": {
     "end_time": "2024-03-17T01:34:27.747712Z",
     "start_time": "2024-03-17T01:34:27.744150Z"
    }
   },
   "id": "bcfd8b6f3ec0f1af",
   "execution_count": 170
  },
  {
   "cell_type": "code",
   "outputs": [],
   "source": [
    "# apply one backward pass for TAGI from the output layer to the hidden layer\n",
    "cov_zplus_z = var_z @ J.T @ mu_w2  #TODO: check formulation\n",
    "Jz = cov_zplus_z @ np.linalg.inv(var_z0) \n",
    "mu_post_z = mu_z + Jz @ (mu_z0_inf - mu_z0) #TODO: transpose Jz\n",
    "var_post_z = var_z + Jz @ (var_z0_inf-var_z0) @ Jz.T"
   ],
   "metadata": {
    "collapsed": false,
    "ExecuteTime": {
     "end_time": "2024-03-17T01:34:27.753790Z",
     "start_time": "2024-03-17T01:34:27.748866Z"
    }
   },
   "id": "60b9417e03c64b81",
   "execution_count": 171
  },
  {
   "cell_type": "code",
   "outputs": [],
   "source": [
    "# apply one backward pass for TAGI from the output layer to the weights and biases\n",
    "Jw2 = cov_z0_w @ np.linalg.inv(var_z0)\n",
    "Jb2 = cov_z0_b @ np.linalg.inv(var_z0)\n",
    "\n",
    "mu_post_w2 = mu_w2 + Jw2 @ (mu_z0_inf - mu_z0)\n",
    "var_post_w2 = var_w2 + Jw2 @ (var_z0_inf - var_z0) @ Jw2.T\n",
    "\n",
    "mu_post_b2 = mu_b2 + Jb2 @ (mu_z0_inf - mu_z0)\n",
    "var_post_b2 = var_b2 + Jb2 @ (var_z0_inf - var_z0) @ Jb2.T"
   ],
   "metadata": {
    "collapsed": false,
    "ExecuteTime": {
     "end_time": "2024-03-17T01:34:27.757809Z",
     "start_time": "2024-03-17T01:34:27.754898Z"
    }
   },
   "id": "8947dba00564fee5",
   "execution_count": 172
  },
  {
   "cell_type": "code",
   "outputs": [
    {
     "data": {
      "text/plain": "array([0.11874653])"
     },
     "execution_count": 173,
     "metadata": {},
     "output_type": "execute_result"
    }
   ],
   "source": [
    "Jw2"
   ],
   "metadata": {
    "collapsed": false,
    "ExecuteTime": {
     "end_time": "2024-03-17T01:34:27.762600Z",
     "start_time": "2024-03-17T01:34:27.759174Z"
    }
   },
   "id": "9bea75dab75bd793",
   "execution_count": 173
  },
  {
   "cell_type": "code",
   "outputs": [
    {
     "ename": "ValueError",
     "evalue": "matmul: Input operand 0 does not have enough dimensions (has 0, gufunc core with signature (n?,k),(k,m?)->(n?,m?) requires 1)",
     "output_type": "error",
     "traceback": [
      "\u001B[0;31m---------------------------------------------------------------------------\u001B[0m",
      "\u001B[0;31mValueError\u001B[0m                                Traceback (most recent call last)",
      "Cell \u001B[0;32mIn[174], line 6\u001B[0m\n\u001B[1;32m      3\u001B[0m Jb1 \u001B[38;5;241m=\u001B[39m cov_z_b \u001B[38;5;241m/\u001B[39m var_z\n\u001B[1;32m      5\u001B[0m mu_post_w1 \u001B[38;5;241m=\u001B[39m mu_w1 \u001B[38;5;241m+\u001B[39m Jw1 \u001B[38;5;241m@\u001B[39m (mu_post_z \u001B[38;5;241m-\u001B[39m mu_z)\n\u001B[0;32m----> 6\u001B[0m var_post_w1 \u001B[38;5;241m=\u001B[39m var_w1 \u001B[38;5;241m+\u001B[39m \u001B[43mJw1\u001B[49m\u001B[43m \u001B[49m\u001B[38;5;241;43m@\u001B[39;49m\u001B[43m \u001B[49m\u001B[43m(\u001B[49m\u001B[43mvar_post_z\u001B[49m\u001B[43m \u001B[49m\u001B[38;5;241;43m-\u001B[39;49m\u001B[43m \u001B[49m\u001B[43mvar_z\u001B[49m\u001B[43m)\u001B[49m\u001B[43m \u001B[49m\u001B[38;5;241;43m@\u001B[39;49m\u001B[43m \u001B[49m\u001B[43mJw1\u001B[49m\u001B[38;5;241;43m.\u001B[39;49m\u001B[43mT\u001B[49m\n\u001B[1;32m      8\u001B[0m mu_post_b1 \u001B[38;5;241m=\u001B[39m mu_b2 \u001B[38;5;241m+\u001B[39m Jb1 \u001B[38;5;241m@\u001B[39m (mu_post_z \u001B[38;5;241m-\u001B[39m mu_z)\n\u001B[1;32m      9\u001B[0m var_post_b1 \u001B[38;5;241m=\u001B[39m var_b1 \u001B[38;5;241m+\u001B[39m Jb1 \u001B[38;5;241m@\u001B[39m (var_post_z \u001B[38;5;241m-\u001B[39m var_z) \u001B[38;5;241m@\u001B[39m Jb1\u001B[38;5;241m.\u001B[39mT\n",
      "\u001B[0;31mValueError\u001B[0m: matmul: Input operand 0 does not have enough dimensions (has 0, gufunc core with signature (n?,k),(k,m?)->(n?,m?) requires 1)"
     ]
    }
   ],
   "source": [
    "# apply one backward pass for TAGI from the output layer to the weights and biases\n",
    "Jw1 = cov_z_w / var_z\n",
    "Jb1 = cov_z_b / var_z\n",
    "\n",
    "mu_post_w1 = mu_w1 + Jw1 @ (mu_post_z - mu_z)\n",
    "var_post_w1 = var_w1 + Jw1 @ (var_post_z - var_z) @ Jw1.T\n",
    "\n",
    "mu_post_b1 = mu_b2 + Jb1 @ (mu_post_z - mu_z)\n",
    "var_post_b1 = var_b1 + Jb1 @ (var_post_z - var_z) @ Jb1.T"
   ],
   "metadata": {
    "collapsed": false,
    "ExecuteTime": {
     "end_time": "2024-03-17T01:34:27.778223Z",
     "start_time": "2024-03-17T01:34:27.763733Z"
    }
   },
   "id": "d7e12c02364bf74",
   "execution_count": 174
  },
  {
   "cell_type": "code",
   "outputs": [
    {
     "data": {
      "text/plain": "array([-1.34615385, -1.34615385, -1.34615385, -1.34615385, -1.34615385,\n       -1.34615385, -1.34615385, -1.34615385, -1.34615385, -1.34615385,\n       -1.34615385, -1.34615385, -1.34615385, -1.34615385, -1.34615385,\n       -1.34615385, -1.34615385, -1.34615385, -1.34615385, -1.34615385,\n       -1.34615385, -1.34615385, -1.34615385, -1.34615385, -1.34615385,\n       -1.34615385, -1.34615385, -1.34615385, -1.34615385, -1.34615385,\n       -1.34615385, -1.34615385, -1.34615385, -1.34615385, -1.34615385,\n       -1.34615385, -1.34615385, -1.34615385, -1.34615385, -1.34615385,\n       -1.34615385, -1.34615385, -1.34615385, -1.34615385, -1.34615385,\n       -1.34615385, -1.34615385, -1.34615385, -1.34615385, -1.34615385,\n       -1.34615385, -1.34615385, -1.34615385, -1.34615385, -1.34615385,\n       -1.34615385, -1.34615385, -1.34615385, -1.34615385, -1.34615385,\n       -1.34615385, -1.34615385, -1.34615385, -1.34615385, -1.34615385,\n       -1.34615385, -1.34615385, -1.34615385, -1.34615385, -1.34615385,\n       -1.34615385, -1.34615385, -1.34615385, -1.34615385, -1.34615385,\n       -1.34615385, -1.34615385, -1.34615385, -1.34615385, -1.34615385,\n       -1.34615385, -1.34615385, -1.34615385, -1.34615385, -1.34615385,\n       -1.34615385, -1.34615385, -1.34615385, -1.34615385, -1.34615385,\n       -1.34615385, -1.34615385, -1.34615385, -1.34615385, -1.34615385,\n       -1.34615385, -1.34615385, -1.34615385, -1.34615385, -1.34615385])"
     },
     "execution_count": 175,
     "metadata": {},
     "output_type": "execute_result"
    }
   ],
   "source": [
    "Jw1"
   ],
   "metadata": {
    "collapsed": false,
    "ExecuteTime": {
     "end_time": "2024-03-17T01:34:35.092098Z",
     "start_time": "2024-03-17T01:34:35.089260Z"
    }
   },
   "id": "fad53d0546f788e8",
   "execution_count": 175
  },
  {
   "cell_type": "code",
   "outputs": [],
   "source": [],
   "metadata": {
    "collapsed": false
   },
   "id": "7e3fab710ecbbffe",
   "execution_count": null
  }
 ],
 "metadata": {
  "kernelspec": {
   "display_name": "Python 3",
   "language": "python",
   "name": "python3"
  },
  "language_info": {
   "codemirror_mode": {
    "name": "ipython",
    "version": 2
   },
   "file_extension": ".py",
   "mimetype": "text/x-python",
   "name": "python",
   "nbconvert_exporter": "python",
   "pygments_lexer": "ipython2",
   "version": "2.7.6"
  }
 },
 "nbformat": 4,
 "nbformat_minor": 5
}
